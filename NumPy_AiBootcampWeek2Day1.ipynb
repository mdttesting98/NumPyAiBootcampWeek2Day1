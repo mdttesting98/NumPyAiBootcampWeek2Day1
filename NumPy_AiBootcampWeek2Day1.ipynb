{
  "nbformat": 4,
  "nbformat_minor": 0,
  "metadata": {
    "colab": {
      "name": "NumPy - AiBootcampWeek2Day1.ipynb",
      "provenance": [],
      "collapsed_sections": []
    },
    "kernelspec": {
      "name": "python3",
      "display_name": "Python 3"
    },
    "language_info": {
      "name": "python"
    }
  },
  "cells": [
    {
      "cell_type": "code",
      "metadata": {
        "id": "t4Fj2ASTS4r7"
      },
      "source": [
        "import numpy as np"
      ],
      "execution_count": 2,
      "outputs": []
    },
    {
      "cell_type": "code",
      "metadata": {
        "colab": {
          "base_uri": "https://localhost:8080/"
        },
        "id": "1vN7gmOORYYv",
        "outputId": "df3e6912-58ba-40b1-9d59-76fa09d60f82"
      },
      "source": [
        "# Create a NumPy array and test whether any elements of the array are non-zero a sample output\n",
        "\n",
        "x = [np.array([1, 2, 3, 0])]\n",
        "\n",
        "if np.all(x) == True:\n",
        "  print(\"This array has no zeroes.\")\n",
        "else:\n",
        "  print(\"This array has zeroes.\")"
      ],
      "execution_count": 3,
      "outputs": [
        {
          "output_type": "stream",
          "text": [
            "This array has zeroes.\n"
          ],
          "name": "stdout"
        }
      ]
    },
    {
      "cell_type": "code",
      "metadata": {
        "colab": {
          "base_uri": "https://localhost:8080/"
        },
        "id": "WQszOhMJTHnJ",
        "outputId": "31cc17ea-ce6f-465d-910f-cb5a801b1624"
      },
      "source": [
        "# Create a NumPy array of integer in range of 30 to 70\n",
        "\n",
        "print(np.arange(30,71))"
      ],
      "execution_count": 5,
      "outputs": [
        {
          "output_type": "stream",
          "text": [
            "[30 31 32 33 34 35 36 37 38 39 40 41 42 43 44 45 46 47 48 49 50 51 52 53\n",
            " 54 55 56 57 58 59 60 61 62 63 64 65 66 67 68 69 70]\n"
          ],
          "name": "stdout"
        }
      ]
    },
    {
      "cell_type": "code",
      "metadata": {
        "colab": {
          "base_uri": "https://localhost:8080/"
        },
        "id": "8YDKRRkzTfy-",
        "outputId": "37329f6e-0f50-45b8-bb7d-6f7348025cd8"
      },
      "source": [
        "# Create two NumPy array with the same number of elements and compare them to see if their elements are equal.\n",
        "\n",
        "a = np.arange(1,5)\n",
        "b = np.arange(1,5)\n",
        "\n",
        "print(np.equal(a,b))"
      ],
      "execution_count": 7,
      "outputs": [
        {
          "output_type": "stream",
          "text": [
            "[ True  True  True  True]\n"
          ],
          "name": "stdout"
        }
      ]
    },
    {
      "cell_type": "code",
      "metadata": {
        "colab": {
          "base_uri": "https://localhost:8080/"
        },
        "id": "gs8qJvMjUOGO",
        "outputId": "8e6acaa9-1ee8-43ed-aeee-33d852645fa4"
      },
      "source": [
        "# Write a NumPy program to create a 3X4 array and iterate over it to print the items\n",
        "\n",
        "c = np.arange(12).reshape((3, 4))\n",
        "\n",
        "c[2:3, 1] = 66\n",
        "\n",
        "print('original array:')\n",
        "print(c)\n"
        "print('\\n')"
        "print('each element in the array:')\n"
        "for e in c:\n"
          "print(e)\n"
      ],
      "execution_count": 16,
      "outputs": [
        {
          "output_type": "stream",
          "text": [
            "[[ 0  1  2  3]\n",
            " [ 4  5  6  7]\n",
            " [ 8 66 10 11]]\n"
          ],
          "name": "stdout"
        }
      ]
    },
    {
      "cell_type": "code",
      "metadata": {
        "colab": {
          "base_uri": "https://localhost:8080/"
        },
        "id": "6e_KA3pNVVZ_",
        "outputId": "5173e346-e19a-43ef-ade0-fd1f3a3d08d6"
      },
      "source": [
        "# Using NumPy, create a 4x5 matrix filled with values from 1 to 20\n",
        "\n",
        "d = np.arange(1,21).reshape((4, 5))\n",
        "\n",
        "print(d)"
      ],
      "execution_count": 17,
      "outputs": [
        {
          "output_type": "stream",
          "text": [
            "[[ 1  2  3  4  5]\n",
            " [ 6  7  8  9 10]\n",
            " [11 12 13 14 15]\n",
            " [16 17 18 19 20]]\n"
          ],
          "name": "stdout"
        }
      ]
    },
    {
      "cell_type": "code",
      "metadata": {
        "colab": {
          "base_uri": "https://localhost:8080/"
        },
        "id": "7rMO_XVWWFE1",
        "outputId": "396d7d8a-46f9-4995-852d-ed603bd8c200"
      },
      "source": [
        "# We have created a matrix of size 5x4 as follow\n",
        "\n",
        "sizes = np.array(\n",
        "[[2,  8, 8, 3],\n",
        "[6,  13, 1, 6],\n",
        "[9,  5, 3, 7],\n",
        "[3,  22, 9, 2],\n",
        "[12, 7, 2, 9]])\n",
        "\n",
        "# Write a NumPy code that retrieves the last column of sizes matrix:\n",
        "\n",
        "lastColumn = sizes[:,-1]\n",
        "print(lastColumn)\n",
        "\n",
        "print('\\n')\n",
        "\n",
        "# Write a Numpy code that retrieves the following submatrix from sizes:\n",
        "# array([[13,  1],\n",
        "#        [ 5,  3]])\n",
        "\n",
        "sub1 = sizes[1:3, 1:3]\n",
        "print(sub1)\n",
        "\n",
        "print('\\n')\n",
        "\n",
        "\n",
        "# Write a NumPy program that in result create an array containing such items of the sizes matrix, which are greater than 10\n",
        "\n",
        "print(sizes[sizes > 10])\n",
        "\n"
      ],
      "execution_count": 93,
      "outputs": [
        {
          "output_type": "stream",
          "text": [
            "[12  7  2  9]\n",
            "\n",
            "\n",
            "[[13  1]\n",
            " [ 5  3]]\n",
            "\n",
            "\n",
            "[13 22 12]\n"
          ],
          "name": "stdout"
        }
      ]
    }
  ]
}
